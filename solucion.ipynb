{
 "cells": [
  {
   "cell_type": "code",
   "execution_count": 1,
   "metadata": {},
   "outputs": [],
   "source": [
    "import os\n",
    "import os.path"
   ]
  },
  {
   "cell_type": "markdown",
   "metadata": {},
   "source": [
    "### Paso 1 -- lectura de los nombres de archivos"
   ]
  },
  {
   "cell_type": "code",
   "execution_count": 2,
   "metadata": {},
   "outputs": [
    {
     "data": {
      "text/plain": [
       "['Estacion4.csv', 'Estacion1.csv', 'Estacion3.csv', 'Estacion2.csv']"
      ]
     },
     "execution_count": 2,
     "metadata": {},
     "output_type": "execute_result"
    }
   ],
   "source": [
    "filenames = os.listdir('files/06/')\n",
    "filenames = [x for x in filenames if x[-4:] == '.csv']\n",
    "filenames"
   ]
  },
  {
   "cell_type": "markdown",
   "metadata": {},
   "source": [
    "### Paso 2 -- cantidad de registros"
   ]
  },
  {
   "cell_type": "code",
   "execution_count": 3,
   "metadata": {},
   "outputs": [
    {
     "name": "stdout",
     "output_type": "stream",
     "text": [
      "[412562, 561849, 255004, 92966]\n",
      "1322381\n"
     ]
    }
   ],
   "source": [
    "## numero de filas de cada archivo\n",
    "leng = []\n",
    "for file in filenames:\n",
    "    leng.append(len(open('files/06/' + file, 'r').readlines()))\n",
    "print(leng)\n",
    "print(sum(leng))"
   ]
  },
  {
   "cell_type": "markdown",
   "metadata": {},
   "source": [
    "### Paso 3 -- se agrega el nombre de archivo"
   ]
  },
  {
   "cell_type": "code",
   "execution_count": 4,
   "metadata": {},
   "outputs": [],
   "source": [
    "for file in filenames:\n",
    "    ## se lee cada archivo como una lista de strings\n",
    "    lines = open('files/06/' + file, 'r').readlines()\n",
    "    \n",
    "    ## se elimina la cabecera\n",
    "    lines = lines[1:]\n",
    "    \n",
    "    ## se eliminan los retornos de carro\n",
    "    lines = [x[:-1] if x[-1] == '\\n' else x for x in lines]\n",
    "    \n",
    "    ## se agrega el nombre del archivo sin la extensión\n",
    "    lines = [file[:-4] + ';' + x for x in lines ]\n",
    "    \n",
    "    ## se crea un nuevo archivo y se escribe los datos modificados\n",
    "    open('files/06/' + file + '.1', 'w').write('\\n'.join(lines))"
   ]
  },
  {
   "cell_type": "markdown",
   "metadata": {},
   "source": [
    "### Paso 4 -- se pegan todos los archivos"
   ]
  },
  {
   "cell_type": "code",
   "execution_count": 5,
   "metadata": {},
   "outputs": [
    {
     "data": {
      "text/plain": [
       "['Estacion1.csv.1', 'Estacion3.csv.1', 'Estacion4.csv.1', 'Estacion2.csv.1']"
      ]
     },
     "execution_count": 5,
     "metadata": {},
     "output_type": "execute_result"
    }
   ],
   "source": [
    "## se leen los nombres de los archivos '.csv.1'\n",
    "filenames = os.listdir('files/06/')\n",
    "filenames = [x for x in filenames if x[-6:] == '.csv.1']\n",
    "filenames"
   ]
  },
  {
   "cell_type": "code",
   "execution_count": 6,
   "metadata": {},
   "outputs": [],
   "source": [
    "## se abre un nuevo archivo para pegar el contenido \n",
    "## de cada estación\n",
    "ofile = open('files/06/estaciones.csv.2', 'w')\n",
    "for file in filenames:\n",
    "    \n",
    "    ## se abre y se lee cada archivo '*.csv.1'\n",
    "    lines = open('files/06/' + file, 'r').read()\n",
    "    \n",
    "    ## se escribe a 'estaciones.csv.2'\n",
    "    ofile.write(lines)\n",
    "    \n",
    "    ## se agrega un retorno de carro\n",
    "    ofile.write('\\n')\n",
    "\n",
    "## se cierra el archivo \n",
    "ofile.close()"
   ]
  },
  {
   "cell_type": "code",
   "execution_count": 7,
   "metadata": {},
   "outputs": [
    {
     "data": {
      "text/plain": [
       "1322377"
      ]
     },
     "execution_count": 7,
     "metadata": {},
     "output_type": "execute_result"
    }
   ],
   "source": [
    "## cantidad de registros escritos\n",
    "len(open('files/06/estaciones.csv.2', 'r').readlines())"
   ]
  },
  {
   "cell_type": "markdown",
   "metadata": {},
   "source": [
    "### Paso 5"
   ]
  },
  {
   "cell_type": "code",
   "execution_count": 8,
   "metadata": {},
   "outputs": [],
   "source": [
    "## esta funcion convierte las fechas en \n",
    "## formato DD/MM/YY a YYYY-MM-DD\n",
    "def convfechas(x):\n",
    "    ## parte la fecha por el '/'\n",
    "    x = x.split('/')\n",
    "    \n",
    "    ## si el año es menor de 18 se asume que 19YY\n",
    "    ## en caso contrario 20YY\n",
    "    if int(x[2]) <= 18:\n",
    "        return '20' + x[2] + '-' + x[1] + '-' + x[0]\n",
    "    return '19' + x[2] + '-' + x[1] + '-' + x[0]"
   ]
  },
  {
   "cell_type": "code",
   "execution_count": 9,
   "metadata": {},
   "outputs": [],
   "source": [
    "## Se crean funciones adicionales por conveniencia\n",
    "## ya que se requiere extraer el ano, el mes y el dia\n",
    "## para agregarlos como registros adicionales\n",
    "\n",
    "def YEAR(x, sep = '/'):\n",
    "    x = x.split(sep)\n",
    "    if int(x[2]) <= 18:\n",
    "        return '20' + x[2]\n",
    "    return '19' + x[2] \n",
    "    \n",
    "def MONTH(x, sep='/'):\n",
    "    return x.split(sep)[1]\n",
    "\n",
    "def DAY(x,sep='/'):\n",
    "    return x.split(sep)[0]\n",
    "    "
   ]
  },
  {
   "cell_type": "code",
   "execution_count": 10,
   "metadata": {},
   "outputs": [
    {
     "data": {
      "text/plain": [
       "[['Estacion1', '2005-04-16', '11:10:00', '135', '6,3'],\n",
       " ['Estacion1', '2005-04-16', '11:20:00', '135', '5,1'],\n",
       " ['Estacion1', '2005-04-16', '11:30:00', '135', '6,3'],\n",
       " ['Estacion1', '2005-04-16', '11:40:00', '113', '6,1'],\n",
       " ['Estacion1', '2005-04-16', '11:50:00', '135', '4,1'],\n",
       " ['Estacion1', '2005-04-16', '12:00:00', '135', '5,5'],\n",
       " ['Estacion1', '2005-04-16', '12:10:00', '135', '5,4'],\n",
       " ['Estacion1', '2005-04-16', '12:20:00', '135', '5,5'],\n",
       " ['Estacion1', '2005-04-16', '12:30:00', '90', '4,6'],\n",
       " ['Estacion1', '2005-04-16', '12:40:00', '90', '6,7']]"
      ]
     },
     "execution_count": 10,
     "metadata": {},
     "output_type": "execute_result"
    }
   ],
   "source": [
    "## abre el archivo con todos los registros\n",
    "lines = open('files/06/estaciones.csv.2', 'r').readlines()\n",
    "lines = [x[:-1] if x[-1] == '\\n' else x for x in lines]\n",
    "\n",
    "## separa los registros usando el ';'\n",
    "lines = [x.split(';') for x in lines]\n",
    "\n",
    "## cambia la segunda columna en formato DD/MM/YY\n",
    "## a YYYY-MM-DD\n",
    "for i,_ in enumerate(lines):\n",
    "    lines[i][1] = '-'.join([YEAR(lines[i][1]),\n",
    "                            MONTH(lines[i][1]),\n",
    "                            DAY(lines[i][1])])\n",
    "lines[:10]"
   ]
  },
  {
   "cell_type": "code",
   "execution_count": 11,
   "metadata": {},
   "outputs": [],
   "source": [
    "## extrae las fechas como un vector\n",
    "fechas = [x[1] for x in lines]\n",
    "\n",
    "## de cada fecha extrae el componente correspondiente\n",
    "anos = [x[:4] for x in fechas]\n",
    "meses = [x[5:7] for x in fechas]\n",
    "dias = [x[-2:] for x in fechas]"
   ]
  },
  {
   "cell_type": "code",
   "execution_count": 12,
   "metadata": {},
   "outputs": [
    {
     "data": {
      "text/plain": [
       "[['Estacion1', '2005-04-16', '11:10:00', '135', '6,3', '2005', '04', '16'],\n",
       " ['Estacion1', '2005-04-16', '11:20:00', '135', '5,1', '2005', '04', '16'],\n",
       " ['Estacion1', '2005-04-16', '11:30:00', '135', '6,3', '2005', '04', '16'],\n",
       " ['Estacion1', '2005-04-16', '11:40:00', '113', '6,1', '2005', '04', '16'],\n",
       " ['Estacion1', '2005-04-16', '11:50:00', '135', '4,1', '2005', '04', '16'],\n",
       " ['Estacion1', '2005-04-16', '12:00:00', '135', '5,5', '2005', '04', '16'],\n",
       " ['Estacion1', '2005-04-16', '12:10:00', '135', '5,4', '2005', '04', '16'],\n",
       " ['Estacion1', '2005-04-16', '12:20:00', '135', '5,5', '2005', '04', '16'],\n",
       " ['Estacion1', '2005-04-16', '12:30:00', '90', '4,6', '2005', '04', '16'],\n",
       " ['Estacion1', '2005-04-16', '12:40:00', '90', '6,7', '2005', '04', '16']]"
      ]
     },
     "execution_count": 12,
     "metadata": {},
     "output_type": "execute_result"
    }
   ],
   "source": [
    "## para cada registro, agrega el año, el mes \n",
    "## y el dia (concatena dos listas)\n",
    "lines = [x + [a, m, d] for x,a,m,d in zip(lines, anos, meses, dias)]\n",
    "lines[:10]"
   ]
  },
  {
   "cell_type": "code",
   "execution_count": 13,
   "metadata": {},
   "outputs": [
    {
     "data": {
      "text/plain": [
       "[['Estacion2', '2017-06-30', '22:20:00', '3', '0,4', '2017', '06', '30'],\n",
       " ['Estacion2', '2017-06-30', '22:30:00', '339', '0,5', '2017', '06', '30'],\n",
       " ['Estacion2', '2017-06-30', '22:40:00', '276', '0,6', '2017', '06', '30'],\n",
       " ['Estacion2', '2017-06-30', '22:50:00', '296', '0,8', '2017', '06', '30'],\n",
       " ['Estacion2', '2017-06-30', '23:00:00', '36', '0,9', '2017', '06', '30'],\n",
       " ['Estacion2', '2017-06-30', '23:10:00', '328', '0,8', '2017', '06', '30'],\n",
       " ['Estacion2', '2017-06-30', '23:20:00', '32', '0,4', '2017', '06', '30'],\n",
       " ['Estacion2', '2017-06-30', '23:30:00', '297', '0,3', '2017', '06', '30'],\n",
       " ['Estacion2', '2017-06-30', '23:40:00', '253', '0,6', '2017', '06', '30'],\n",
       " ['Estacion2', '2017-06-30', '23:50:00', '261', '0,8', '2017', '06', '30']]"
      ]
     },
     "execution_count": 13,
     "metadata": {},
     "output_type": "execute_result"
    }
   ],
   "source": [
    "## se verifican los ultimos 10 registros\n",
    "lines[-10:]"
   ]
  },
  {
   "cell_type": "code",
   "execution_count": 14,
   "metadata": {},
   "outputs": [],
   "source": [
    "## convierte cada registro en un string\n",
    "lines = [ ';'.join(x) for x in lines]\n",
    "\n",
    "## se genera un unico string con toda la información \n",
    "## del archivo\n",
    "lines = '\\n'.join(lines)"
   ]
  },
  {
   "cell_type": "code",
   "execution_count": 15,
   "metadata": {},
   "outputs": [
    {
     "data": {
      "text/plain": [
       "63230455"
      ]
     },
     "execution_count": 15,
     "metadata": {},
     "output_type": "execute_result"
    }
   ],
   "source": [
    "## se genera un nuevo archivo con los\n",
    "## registro modificados\n",
    "open('files/06/estaciones.csv.3', 'w').write(lines)"
   ]
  },
  {
   "cell_type": "markdown",
   "metadata": {},
   "source": [
    "---"
   ]
  }
 ],
 "metadata": {
  "kernelspec": {
   "display_name": "Python 3",
   "language": "python",
   "name": "python3"
  },
  "language_info": {
   "codemirror_mode": {
    "name": "ipython",
    "version": 3
   },
   "file_extension": ".py",
   "mimetype": "text/x-python",
   "name": "python",
   "nbconvert_exporter": "python",
   "pygments_lexer": "ipython3",
   "version": "3.7.0"
  }
 },
 "nbformat": 4,
 "nbformat_minor": 2
}
